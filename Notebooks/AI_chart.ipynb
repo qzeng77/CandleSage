{
 "cells": [
  {
   "cell_type": "code",
   "execution_count": 1,
   "id": "0eb161db-13d8-43c2-95e5-8b4b4f251fa7",
   "metadata": {
    "tags": []
   },
   "outputs": [],
   "source": [
    "# !pip install pytesseract"
   ]
  },
  {
   "cell_type": "code",
   "execution_count": 7,
   "id": "0d364957-5412-4f44-9d1b-d3fe43ba7fab",
   "metadata": {
    "tags": []
   },
   "outputs": [],
   "source": [
    "import os"
   ]
  },
  {
   "cell_type": "code",
   "execution_count": 29,
   "id": "33768f6a-532f-49d8-9573-20e6c02d348c",
   "metadata": {
    "tags": []
   },
   "outputs": [],
   "source": [
    "def AIopinion(messages):\n",
    "    from openai import OpenAI\n",
    "\n",
    "    YOUR_API_KEY = \"\"\n",
    "    \n",
    "    import re\n",
    "    from IPython.display import clear_output\n",
    "    \n",
    "    client = OpenAI(api_key=YOUR_API_KEY, base_url=\"https://api.perplexity.ai\")\n",
    "    \n",
    "    try:\n",
    "        response_stream = client.chat.completions.create(\n",
    "            model=\"sonar-pro\", #sonar-pro #sonar-reasoning-pro #sonar #sonar-reasoning\n",
    "            messages=messages,\n",
    "            stream=True,\n",
    "        )\n",
    "    \n",
    "        full_response = []\n",
    "        link_map = {}\n",
    "        link_counter = 1\n",
    "        buffer = \"\"\n",
    "    \n",
    "        for chunk in response_stream:\n",
    "            if hasattr(chunk, 'citations') and chunk.citations:\n",
    "                # Enumerate URLs starting at index 1 for proper citation numbering\n",
    "                link_map = {str(i): url for i, url in enumerate(chunk.citations, start=1)}\n",
    "            if chunk.choices and chunk.choices[0].delta.content:\n",
    "                content = chunk.choices[0].delta.content\n",
    "                buffer += content\n",
    "                \n",
    "                # Process URLs incrementally\n",
    "                while True:\n",
    "                    match = re.search(r'https?://[^\\s\\)\\]\\}]+', buffer)\n",
    "                    if not match:\n",
    "                        break\n",
    "                        \n",
    "                    url = match.group()\n",
    "                    if url not in link_map:\n",
    "                        link_map[url] = link_counter\n",
    "                        link_counter += 1\n",
    "                    \n",
    "                    # Replace URL with reference marker\n",
    "                    buffer = buffer.replace(url, f'[{link_map[url]}]', 1)\n",
    "                \n",
    "                # Print processed content and clear buffer\n",
    "                print(buffer, end='', flush=True)\n",
    "                full_response.append(buffer)\n",
    "                buffer = \"\"\n",
    "    \n",
    "        # Print remaining buffer content\n",
    "        if buffer:\n",
    "            print(buffer, end='', flush=True)\n",
    "            full_response.append(buffer)\n",
    "    \n",
    "        # Add references appendix\n",
    "        print(\"\\n\\n--- References ---\")\n",
    "        for url, num in sorted(link_map.items(), key=lambda x: x[1]):\n",
    "            print(f\"[{num}] {url}\")\n",
    "    \n",
    "    except Exception as e:\n",
    "        clear_output()\n",
    "        print(f\"Error occurred: {str(e)}\")"
   ]
  },
  {
   "cell_type": "code",
   "execution_count": 30,
   "id": "f6636e23-e57b-4b48-8991-37c16d6d07eb",
   "metadata": {
    "tags": []
   },
   "outputs": [],
   "source": [
    "from PIL import Image\n",
    "import pytesseract  # First install: pip install pytesseract AND tesseract-OCR\n",
    "\n",
    "# Convert image to analyzable text\n",
    "def image_to_analysis(image_path):\n",
    "    image = Image.open(image_path)\n",
    "    text_data = pytesseract.image_to_string(image)\n",
    "    \n",
    "    # Clean up OCR results\n",
    "    cleaned_data = \"\\n\".join([line for line in text_data.split('\\n') if line.strip()])\n",
    "    return cleaned_data"
   ]
  },
  {
   "cell_type": "code",
   "execution_count": 31,
   "id": "f28e2ef9-0d33-4bc5-b0d5-f4ca937ae739",
   "metadata": {
    "tags": []
   },
   "outputs": [],
   "source": [
    "def persist_chart_for_analysis(url, image_path):\n",
    "    from selenium import webdriver\n",
    "    from selenium.webdriver.chrome.options import Options\n",
    "\n",
    "    options = Options()\n",
    "    options.add_argument(\"--headless\")  # Run in background\n",
    "    driver = webdriver.Chrome(options=options)\n",
    "\n",
    "    driver.get(url)\n",
    "    driver.implicitly_wait(15)  # Wait for chart to load\n",
    "\n",
    "    # Take full-page screenshot\n",
    "    driver.save_screenshot(image_path)\n",
    "    driver.quit()\n",
    "    "
   ]
  },
  {
   "cell_type": "code",
   "execution_count": 32,
   "id": "9167f8ac-b151-4180-8639-404fd84e6281",
   "metadata": {
    "tags": []
   },
   "outputs": [],
   "source": [
    "image_path = 'chart.png'\n",
    "url = \"https://www.tradingview.com/script/Edd4Wt4b-My-Momentum-Strategy/\"\n",
    "# url = \"https://s.tradingview.com/widgetembed/?symbol=NASDAQ:AAPL&interval=1D&theme=dark&studies=RSI@tv-basicstudies,MACD@tv-basicstudies\""
   ]
  },
  {
   "cell_type": "code",
   "execution_count": 33,
   "id": "b9e8d8e4-c6da-41b3-9fd3-43a30c879173",
   "metadata": {
    "tags": []
   },
   "outputs": [],
   "source": [
    "persist_chart_for_analysis(url=url, image_path=image_path)\n",
    "processed_data = image_to_analysis(image_path)"
   ]
  },
  {
   "cell_type": "code",
   "execution_count": null,
   "id": "5d860526-a8bb-4845-ab13-c62ce7943b59",
   "metadata": {
    "tags": []
   },
   "outputs": [],
   "source": []
  },
  {
   "cell_type": "code",
   "execution_count": 34,
   "id": "3a557691-71ce-4986-ae98-87dd0ecbc70b",
   "metadata": {
    "tags": []
   },
   "outputs": [
    {
     "name": "stdout",
     "output_type": "stream",
     "text": [
      "17 Q Search\n",
      "a Updated 4 hours ago\n",
      "My Momentum Strategy\n",
      "Strategy report Source code\n",
      "® Bitcoin / U.S. Dollar - 30.1 AU STON 9.96 Hg H te -Size-{No-of Data Points in-Each-Cluster) Cu lity\n",
      "= i\n",
      "sell sel 3 (bigh} 60\n",
      "2 (Medium)\n",
      "4 98,000\n",
      "96,876\n",
      "=) —| 96,551\n",
      "See BICUSD) 96,544\n",
      "Close entry(s) ordér sell alee 96,522\n",
      "ae +1 buybuybuy 96,261\n",
      "+1-+1-+1 [ee\n",
      "95,000\n",
      "ee\n",
      "—I7-TradingVview- (Se ——— —————————\n",
      "- a\n",
      "06:00 09:00 12:00 15:00 18:00 21:00 22 03:00 06:00 09:00\n"
     ]
    }
   ],
   "source": [
    "print(processed_data)"
   ]
  },
  {
   "cell_type": "code",
   "execution_count": 35,
   "id": "ca33a6dc-bf2b-492d-818f-98da14d7b7d2",
   "metadata": {
    "tags": []
   },
   "outputs": [],
   "source": [
    "messages = [{\n",
    "    \"role\": \"user\",\n",
    "    \"content\": f\"\"\"Analyze this data:\n",
    "    \n",
    "    ## \n",
    "    {processed_data}\n",
    "    \"\"\"\n",
    "}]"
   ]
  },
  {
   "cell_type": "code",
   "execution_count": 36,
   "id": "e0a52638-8a8c-4bfc-a9bd-0c861db3eb0a",
   "metadata": {
    "tags": []
   },
   "outputs": [
    {
     "name": "stdout",
     "output_type": "stream",
     "text": [
      "Based on the image provided, it appears to be a chart showing a momentum trading strategy for Bitcoin (BTC/USD). Here's an analysis of the key elements:\n",
      "\n",
      "1. Time frame: The chart shows 30-minute candles, covering approximately 24 hours of trading activity.\n",
      "\n",
      "2. Price range: The Bitcoin price ranges from around $95,000 to $98,000 during the period shown.\n",
      "\n",
      "3. Trading signals: The strategy generates buy and sell signals:\n",
      "   - There are multiple \"buy\" signals indicated by green arrows pointing up, typically at local price lows.\n",
      "   - There are \"sell\" signals indicated by red arrows pointing down, typically at local price highs.\n",
      "\n",
      "4. Clustering: The chart shows three levels of clustering, likely based on price action or volume:\n",
      "   - High (3): Represented by red dots\n",
      "   - Medium (2): Represented by yellow dots\n",
      "   - Low (1): Represented by green dots\n",
      "\n",
      "5. Order management: There's an indication to \"Close entry(s) order sell\" at one point on the chart, suggesting the strategy includes rules for exiting positions.\n",
      "\n",
      "6. Performance: While specific performance metrics aren't provided, the strategy appears to be capturing short-term price movements in both directions.\n",
      "\n",
      "7. Current price: The last visible price on the chart is around $96,544.\n",
      "\n",
      "8. Time: The x-axis shows time stamps, with the most recent data point at 09:00, likely representing the current time or the end of the displayed period.\n",
      "\n",
      "This momentum strategy seems designed to take advantage of short-term price fluctuations in Bitcoin, using a combination of technical indicators and possibly volume analysis to generate trading signals. The clustering system may be used to gauge the strength or reliability of the signals. As with any trading strategy, it's important to note that past performance does not guarantee future results, and cryptocurrency markets can be highly volatile.\n",
      "\n",
      "--- References ---\n",
      "[https://onetrading.com/blogs/crypto-fundamentals-crypto-trading-strategies-for-beginners] 6\n",
      "[https://onetrading.com/blogs/crypto-technical-analysis-techniques-indicators-and-applications] 10\n",
      "[https://osl.com/academy/article/10-best-crypto-day-trading-strategies] 1\n",
      "[https://quantpedia.com/cryptocurrency-trading-research/] 4\n",
      "[https://www.avatrade.com/education/online-trading-strategies/crypto-trading-strategies] 8\n",
      "[https://www.bitcoin.com/top-bitcoin-trading-strategies/] 7\n",
      "[https://www.cryptohopper.com/blog/common-cryptocurrency-trading-strategies-for-beginners-1907] 3\n",
      "[https://www.ig.com/en-ch/trading-strategies/the-5-crypto-trading-strategies-that-every-trader-needs-to-know-221123] 5\n",
      "[https://www.kraken.com/learn/crypto-trading-strategies] 2\n",
      "[https://www.youtube.com/watch?v=yqa_oeTDdAY] 9\n"
     ]
    }
   ],
   "source": [
    "AIopinion(messages=messages)"
   ]
  },
  {
   "cell_type": "code",
   "execution_count": null,
   "id": "5405a4bc-a468-41cf-bc2a-60a5ab81956b",
   "metadata": {},
   "outputs": [],
   "source": []
  },
  {
   "cell_type": "code",
   "execution_count": null,
   "id": "09b7c9f4-c7c8-4b8a-a04f-3236b113149c",
   "metadata": {},
   "outputs": [],
   "source": []
  },
  {
   "cell_type": "code",
   "execution_count": null,
   "id": "105c14e5-1db9-40af-9439-de7fce1f0b75",
   "metadata": {},
   "outputs": [],
   "source": []
  },
  {
   "cell_type": "code",
   "execution_count": null,
   "id": "ab4540ce-6092-42da-bdf9-9fa081844ccd",
   "metadata": {},
   "outputs": [],
   "source": []
  },
  {
   "cell_type": "code",
   "execution_count": null,
   "id": "2be14eb7-337b-4347-b057-0ecb630cf824",
   "metadata": {},
   "outputs": [],
   "source": []
  }
 ],
 "metadata": {
  "kernelspec": {
   "display_name": "Python 3 (ipykernel)",
   "language": "python",
   "name": "python3"
  },
  "language_info": {
   "codemirror_mode": {
    "name": "ipython",
    "version": 3
   },
   "file_extension": ".py",
   "mimetype": "text/x-python",
   "name": "python",
   "nbconvert_exporter": "python",
   "pygments_lexer": "ipython3",
   "version": "3.9.7"
  }
 },
 "nbformat": 4,
 "nbformat_minor": 5
}
