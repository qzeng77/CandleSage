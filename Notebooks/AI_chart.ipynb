{
 "cells": [
  {
   "cell_type": "code",
   "execution_count": 11,
   "id": "0eb161db-13d8-43c2-95e5-8b4b4f251fa7",
   "metadata": {
    "tags": []
   },
   "outputs": [],
   "source": [
    "#!pip install pytesseract\n",
    "#!pip install selenium\n",
    "#!pip install openai"
   ]
  },
  {
   "cell_type": "code",
   "execution_count": 1,
   "id": "0d364957-5412-4f44-9d1b-d3fe43ba7fab",
   "metadata": {
    "tags": []
   },
   "outputs": [],
   "source": [
    "import os\n",
    "from apikey import YOUR_API_KEY"
   ]
  },
  {
   "cell_type": "code",
   "execution_count": 2,
   "id": "33768f6a-532f-49d8-9573-20e6c02d348c",
   "metadata": {
    "tags": []
   },
   "outputs": [],
   "source": [
    "def AIopinion(messages):\n",
    "    from openai import OpenAI\n",
    "    \n",
    "    import re\n",
    "    from IPython.display import clear_output\n",
    "    \n",
    "    client = OpenAI(api_key=YOUR_API_KEY, base_url=\"https://api.perplexity.ai\")\n",
    "    \n",
    "    try:\n",
    "        response_stream = client.chat.completions.create(\n",
    "            model=\"sonar-pro\", #sonar-pro #sonar-reasoning-pro #sonar #sonar-reasoning\n",
    "            messages=messages,\n",
    "            stream=True,\n",
    "        )\n",
    "    \n",
    "        full_response = []\n",
    "        link_map = {}\n",
    "        link_counter = 1\n",
    "        buffer = \"\"\n",
    "    \n",
    "        for chunk in response_stream:\n",
    "            if hasattr(chunk, 'citations') and chunk.citations:\n",
    "                # Enumerate URLs starting at index 1 for proper citation numbering\n",
    "                link_map = {str(i): url for i, url in enumerate(chunk.citations, start=1)}\n",
    "            if chunk.choices and chunk.choices[0].delta.content:\n",
    "                content = chunk.choices[0].delta.content\n",
    "                buffer += content\n",
    "                \n",
    "                # Process URLs incrementally\n",
    "                while True:\n",
    "                    match = re.search(r'https?://[^\\s\\)\\]\\}]+', buffer)\n",
    "                    if not match:\n",
    "                        break\n",
    "                        \n",
    "                    url = match.group()\n",
    "                    if url not in link_map:\n",
    "                        link_map[url] = link_counter\n",
    "                        link_counter += 1\n",
    "                    \n",
    "                    # Replace URL with reference marker\n",
    "                    buffer = buffer.replace(url, f'[{link_map[url]}]', 1)\n",
    "                \n",
    "                # Print processed content and clear buffer\n",
    "                print(buffer, end='', flush=True)\n",
    "                full_response.append(buffer)\n",
    "                buffer = \"\"\n",
    "    \n",
    "        # Print remaining buffer content\n",
    "        if buffer:\n",
    "            print(buffer, end='', flush=True)\n",
    "            full_response.append(buffer)\n",
    "    \n",
    "        # Add references appendix\n",
    "        print(\"\\n\\n--- References ---\")\n",
    "        for url, num in sorted(link_map.items(), key=lambda x: x[1]):\n",
    "            print(f\"[{num}] {url}\")\n",
    "    \n",
    "    except Exception as e:\n",
    "        clear_output()\n",
    "        print(f\"Error occurred: {str(e)}\")"
   ]
  },
  {
   "cell_type": "code",
   "execution_count": 3,
   "id": "f6636e23-e57b-4b48-8991-37c16d6d07eb",
   "metadata": {
    "tags": []
   },
   "outputs": [],
   "source": [
    "from PIL import Image\n",
    "import pytesseract  # First install: pip install pytesseract AND tesseract-OCR\n",
    "\n",
    "# Convert image to analyzable text\n",
    "def image_to_analysis(image_path):\n",
    "    image = Image.open(image_path)\n",
    "    text_data = pytesseract.image_to_string(image)\n",
    "    \n",
    "    # Clean up OCR results\n",
    "    cleaned_data = \"\\n\".join([line for line in text_data.split('\\n') if line.strip()])\n",
    "    return cleaned_data"
   ]
  },
  {
   "cell_type": "code",
   "execution_count": 4,
   "id": "f28e2ef9-0d33-4bc5-b0d5-f4ca937ae739",
   "metadata": {
    "tags": []
   },
   "outputs": [],
   "source": [
    "def persist_chart_for_analysis(url, image_path):\n",
    "    from selenium import webdriver\n",
    "    from selenium.webdriver.chrome.options import Options\n",
    "\n",
    "    options = Options()\n",
    "    options.add_argument(\"--headless\")  # Run in background\n",
    "    driver = webdriver.Chrome(options=options)\n",
    "\n",
    "    driver.get(url)\n",
    "    driver.implicitly_wait(15)  # Wait for chart to load\n",
    "\n",
    "    # Take full-page screenshot\n",
    "    driver.save_screenshot(image_path)\n",
    "    driver.quit()\n",
    "    "
   ]
  },
  {
   "cell_type": "code",
   "execution_count": 14,
   "id": "9167f8ac-b151-4180-8639-404fd84e6281",
   "metadata": {
    "tags": []
   },
   "outputs": [],
   "source": [
    "image_path = 'chart.png'\n",
    "#url = \"https://www.tradingview.com/script/Edd4Wt4b-My-Momentum-Strategy/\"\n",
    "url = \"https://s.tradingview.com/widgetembed/?symbol=NASDAQ:AAPL&interval=1D&theme=dark&studies=RSI@tv-basicstudies,MACD@tv-basicstudies\""
   ]
  },
  {
   "cell_type": "code",
   "execution_count": 15,
   "id": "b9e8d8e4-c6da-41b3-9fd3-43a30c879173",
   "metadata": {
    "tags": []
   },
   "outputs": [],
   "source": [
    "persist_chart_for_analysis(url=url, image_path=image_path)\n",
    "processed_data = image_to_analysis(image_path)"
   ]
  },
  {
   "cell_type": "code",
   "execution_count": null,
   "id": "5d860526-a8bb-4845-ab13-c62ce7943b59",
   "metadata": {
    "tags": []
   },
   "outputs": [],
   "source": []
  },
  {
   "cell_type": "code",
   "execution_count": 16,
   "id": "3a557691-71ce-4986-ae98-87dd0ecbc70b",
   "metadata": {
    "tags": []
   },
   "outputs": [
    {
     "name": "stdout",
     "output_type": "stream",
     "text": [
      "268.00\n",
      "~\n",
      "il |\n",
      "WM\n",
      "beer eerie eee leer cere ere neler eee er eee erected ee eee A | (a\n",
      "Aw of / | 1 vou\n",
      "hy hte wt IY yl Yl —\n",
      "Py yy yi hi\n",
      ", { ie\n",
      "i ~\n",
      "w “>\n"
     ]
    }
   ],
   "source": [
    "print(processed_data)"
   ]
  },
  {
   "cell_type": "code",
   "execution_count": 8,
   "id": "ca33a6dc-bf2b-492d-818f-98da14d7b7d2",
   "metadata": {
    "tags": []
   },
   "outputs": [],
   "source": [
    "messages = [{\n",
    "    \"role\": \"user\",\n",
    "    \"content\": f\"\"\"Analyze this data:\n",
    "    \n",
    "    ## \n",
    "    {processed_data}\n",
    "    \"\"\"\n",
    "}]"
   ]
  },
  {
   "cell_type": "code",
   "execution_count": 12,
   "id": "e0a52638-8a8c-4bfc-a9bd-0c861db3eb0a",
   "metadata": {
    "tags": []
   },
   "outputs": [
    {
     "name": "stdout",
     "output_type": "stream",
     "text": [
      "Based on the search results, here's an analysis of momentum trading strategies:\n",
      "\n",
      "Momentum trading is a strategy that capitalizes on the continuation of existing trends in asset prices. The key principles of momentum trading include:\n",
      "\n",
      "1. Identifying assets with strong price movements in a particular direction (upward or downward)[1][5].\n",
      "\n",
      "2. Entering positions to profit from the momentum continuing in the same direction[1].\n",
      "\n",
      "3. Using technical analysis tools and indicators like moving averages, relative strength index (RSI), and price momentum oscillators to identify securities with strong momentum trends[1][3].\n",
      "\n",
      "Key aspects of momentum trading strategies:\n",
      "\n",
      "1. Time frames: Momentum strategies can be applied to various time frames, from short-term (days or weeks) to longer-term (months)[3][5].\n",
      "\n",
      "2. Asset selection: Traders often focus on a universe of stocks or ETFs, such as the S&P 500[4][8].\n",
      "\n",
      "3. Ranking and selection: Assets are typically ranked based on their price momentum over specific periods (e.g., 1-month, 3-month, 6-month, and 1-year returns)[8].\n",
      "\n",
      "4. Position sizing: Equal-weight allocations are common, with the number of positions varying (e.g., top 50 stocks)[8].\n",
      "\n",
      "5. Rebalancing: Strategies often rebalance periodically, such as monthly, to maintain exposure to the highest momentum assets[6].\n",
      "\n",
      "Common momentum indicators and techniques:\n",
      "\n",
      "1. Moving averages: Used to identify trends and potential entry/exit points[3][6].\n",
      "2. Relative Strength Index (RSI): Helps gauge overbought or oversold conditions[3].\n",
      "3. Price breakouts: Entering positions when prices break above or below certain levels[1].\n",
      "4. Volume: Used in conjunction with price movements to confirm momentum[5].\n",
      "\n",
      "Implementation and backtesting:\n",
      "\n",
      "1. Momentum strategies can be implemented using programming languages like Python[2][4][8].\n",
      "2. Backtesting is crucial to evaluate the strategy's historical performance and refine parameters[4][8].\n",
      "3. Risk management techniques, such as stop-loss orders and position sizing, are important for managing potential losses[1][3].\n",
      "\n",
      "Potential benefits and risks:\n",
      "\n",
      "Benefits:\n",
      "- Can be applied to various asset classes and markets[1].\n",
      "- Potential for significant profits by capitalizing on strong trends[1].\n",
      "- Relatively straightforward to identify trading opportunities[1].\n",
      "\n",
      "Risks:\n",
      "- Sudden trend reversals can lead to significant losses[1].\n",
      "- Requires disciplined execution and continuous monitoring of market conditions[1].\n",
      "- Past performance does not guarantee future results[3].\n",
      "\n",
      "In conclusion, momentum trading strategies aim to capitalize on the tendency of asset prices to continue moving in the same direction for some time. While they can be potentially profitable, they require careful implementation, risk management, and ongoing monitoring to be successful.\n",
      "\n",
      "--- References ---\n",
      "[https://blog.quantinsti.com/momentum-trading-strategies/] 3\n",
      "[https://github.com/ayush0801/Quantitaive-Momentum-Strategy] 8\n",
      "[https://github.com/sanjeevai/trading-with-momentum] 4\n",
      "[https://www.fidelity.com/learning-center/trading-investing/trading/momentum-trading-strategies] 9\n",
      "[https://www.ig.com/en/trading-strategies/momentum-trading-strategies--a-beginners-guide-190905] 7\n",
      "[https://www.quantifiedstrategies.com/momentum-trading-strategies/] 5\n",
      "[https://www.tastylive.com/concepts-strategies/momentum-trading] 1\n",
      "[https://www.tradingview.com/script/XhCZbT4b-Momentum-Strategy/] 10\n",
      "[https://www.youtube.com/watch?v=JbfhaJm77K8] 6\n",
      "[https://www.youtube.com/watch?v=L2nhNvIAyBI] 2\n"
     ]
    }
   ],
   "source": [
    "AIopinion(messages=messages)"
   ]
  },
  {
   "cell_type": "code",
   "execution_count": null,
   "id": "5405a4bc-a468-41cf-bc2a-60a5ab81956b",
   "metadata": {},
   "outputs": [],
   "source": []
  },
  {
   "cell_type": "code",
   "execution_count": null,
   "id": "09b7c9f4-c7c8-4b8a-a04f-3236b113149c",
   "metadata": {},
   "outputs": [],
   "source": []
  },
  {
   "cell_type": "code",
   "execution_count": null,
   "id": "105c14e5-1db9-40af-9439-de7fce1f0b75",
   "metadata": {},
   "outputs": [],
   "source": []
  },
  {
   "cell_type": "code",
   "execution_count": null,
   "id": "ab4540ce-6092-42da-bdf9-9fa081844ccd",
   "metadata": {},
   "outputs": [],
   "source": []
  },
  {
   "cell_type": "code",
   "execution_count": null,
   "id": "2be14eb7-337b-4347-b057-0ecb630cf824",
   "metadata": {},
   "outputs": [],
   "source": []
  }
 ],
 "metadata": {
  "kernelspec": {
   "display_name": "Python 3 (ipykernel)",
   "language": "python",
   "name": "python3"
  },
  "language_info": {
   "codemirror_mode": {
    "name": "ipython",
    "version": 3
   },
   "file_extension": ".py",
   "mimetype": "text/x-python",
   "name": "python",
   "nbconvert_exporter": "python",
   "pygments_lexer": "ipython3",
   "version": "3.10.12"
  }
 },
 "nbformat": 4,
 "nbformat_minor": 5
}
